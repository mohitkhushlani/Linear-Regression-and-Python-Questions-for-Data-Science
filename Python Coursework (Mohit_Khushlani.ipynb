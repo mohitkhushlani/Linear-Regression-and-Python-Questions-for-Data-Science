{
 "cells": [
  {
   "cell_type": "markdown",
   "id": "521a3273",
   "metadata": {},
   "source": [
    "# Python Coursework Problem"
   ]
  },
  {
   "cell_type": "markdown",
   "id": "c2a128c4",
   "metadata": {},
   "source": [
    " Mohit Khushlani\n",
    " "
   ]
  },
  {
   "cell_type": "markdown",
   "id": "bf2af303",
   "metadata": {},
   "source": [
    "Q1\n",
    "(a) Write a function to generate an m+1 dimensional data set, of size n, consisting of m\n",
    "continuous independent variables (X) and one dependent variable (Y) defined as\n",
    "\n",
    "yi = xiβ + e\n",
    "\n",
    "\n",
    "where\n",
    "\n",
    "● e is a Gaussian distribution with mean 0 and standard deviation (σ), representing the\n",
    "unexplained variation in Y\n",
    "\n",
    "● β is a random vector of dimensionality m + 1, representing the\n",
    "coefficients of the linear relationship between X and Y, and\n",
    "∀i ∈ [1, n], xi0 = 1\n",
    "\n",
    "The function should take the following parameters:\n",
    "\n",
    "• σ: The spread of noise in the output variable\n",
    "• n: The size of the data set\n",
    "• m: number of independent variables\n",
    "Output from the function should be:\n",
    "• X: An n × m+1 numpy array of independent variable values (with a 1 in the first\n",
    "column)\n",
    "• Y: The n × 1 numpy array of output values\n",
    "• β: The random coefficients used to generate Y from X\n",
    "\n",
    "\n",
    "\n",
    "(b) Write a function that learns the parameters of a linear regression line given inputs\n",
    "\n",
    "• X: An n × m numpy array of independent variable values\n",
    "• Y : The n × 1 numpy array of output values\n",
    "• k: the number of interactions (epochs)\n",
    "• τ : the threshold on change in Cost function value from the previous to current\n",
    "iteration\n",
    "• λ: the learning rate for Gradient Descent\n",
    "\n",
    "The function should implement the Gradient Descent algorithm that initializes β with\n",
    "random values and then updates these values in each interaction by moving in the direction\n",
    "defined by the partial derivative of the cost function with respect to each of the coefficients.\n",
    "The function should use only one loop that ends after a number of iterations (k) or a\n",
    "threshold on the change in cost function value (τ ).\n",
    "The output should be an m + 1 dimensional vector of coefficients and the final cost function\n",
    "value."
   ]
  },
  {
   "cell_type": "code",
   "execution_count": 128,
   "id": "c031f0d9",
   "metadata": {},
   "outputs": [],
   "source": [
    "# Making the imports\n",
    "import numpy as np\n",
    "import pandas as pd\n",
    "import matplotlib.pyplot as plt\n",
    "plt.rcParams['figure.figsize'] = (12.0, 9.0)"
   ]
  },
  {
   "cell_type": "code",
   "execution_count": 129,
   "id": "833f0eb0",
   "metadata": {},
   "outputs": [],
   "source": [
    "def generator(n,m,sigma):\n",
    "    \"\"\"\n",
    "    This function helps in generating data for Linear regression problem.\n",
    "    \n",
    "    To generate the data we are using the following equation.\n",
    "                              y = XB + e\n",
    "          here, \n",
    "          e is a Gaussuan distribution with mean 0 and standard deviation (σ), \n",
    "          representing the unexplained variation in Y.\n",
    "\n",
    "          β is a random vector of dimensionality (m+1), representing the coefficients\n",
    "          of the linear relationship between X and Y, \n",
    "\n",
    "          and  ∀i ∈ [1, n], Xi0 = 1\n",
    "    \n",
    "    Parameters:\n",
    "           n: The size of the data set\n",
    "           m: The number of indepedent variables\n",
    "           sigma: The spread of noise in the output variable\n",
    "    \n",
    "    Return:\n",
    "           X: An n × (m+1) numpy array of independent variable values (with a 1 in the first column)\n",
    "           y : The n × 1 numpy array of output values\n",
    "           beta: The random coefficients used to generatre Y from X\n",
    "    \"\"\"\n",
    "    X = np.random.rand(n, m+1)\n",
    "    X[:, 0] = 1\n",
    "    print(\"X shape: \", X.shape)\n",
    "\n",
    "    e = np.random.normal(0, sigma, (n,1)) # gaussian distribution\n",
    "    print(\"error shape: \", e.shape)\n",
    "    \n",
    "    beta = np.random.rand(m+1, 1)\n",
    "    print(\"beta shape: \", beta.shape)\n",
    "    \n",
    "    y = np.matmul(X, beta) + e\n",
    "    print(\"y shape: \", y.shape)\n",
    "    return X,y,beta"
   ]
  },
  {
   "cell_type": "code",
   "execution_count": 130,
   "id": "906961d0",
   "metadata": {},
   "outputs": [
    {
     "name": "stdout",
     "output_type": "stream",
     "text": [
      "X shape:  (1000, 2)\n",
      "error shape:  (1000, 1)\n",
      "beta shape:  (2, 1)\n",
      "y shape:  (1000, 1)\n"
     ]
    }
   ],
   "source": [
    "X, y, beta = generator(1000, 1, 0.2)"
   ]
  },
  {
   "cell_type": "code",
   "execution_count": 131,
   "id": "9f7ea581",
   "metadata": {},
   "outputs": [
    {
     "data": {
      "text/html": [
       "<div>\n",
       "<style scoped>\n",
       "    .dataframe tbody tr th:only-of-type {\n",
       "        vertical-align: middle;\n",
       "    }\n",
       "\n",
       "    .dataframe tbody tr th {\n",
       "        vertical-align: top;\n",
       "    }\n",
       "\n",
       "    .dataframe thead th {\n",
       "        text-align: right;\n",
       "    }\n",
       "</style>\n",
       "<table border=\"1\" class=\"dataframe\">\n",
       "  <thead>\n",
       "    <tr style=\"text-align: right;\">\n",
       "      <th></th>\n",
       "      <th>X0</th>\n",
       "      <th>X1</th>\n",
       "    </tr>\n",
       "  </thead>\n",
       "  <tbody>\n",
       "    <tr>\n",
       "      <th>0</th>\n",
       "      <td>1.0</td>\n",
       "      <td>0.379319</td>\n",
       "    </tr>\n",
       "    <tr>\n",
       "      <th>1</th>\n",
       "      <td>1.0</td>\n",
       "      <td>0.075781</td>\n",
       "    </tr>\n",
       "    <tr>\n",
       "      <th>2</th>\n",
       "      <td>1.0</td>\n",
       "      <td>0.847121</td>\n",
       "    </tr>\n",
       "    <tr>\n",
       "      <th>3</th>\n",
       "      <td>1.0</td>\n",
       "      <td>0.678669</td>\n",
       "    </tr>\n",
       "    <tr>\n",
       "      <th>4</th>\n",
       "      <td>1.0</td>\n",
       "      <td>0.962286</td>\n",
       "    </tr>\n",
       "    <tr>\n",
       "      <th>...</th>\n",
       "      <td>...</td>\n",
       "      <td>...</td>\n",
       "    </tr>\n",
       "    <tr>\n",
       "      <th>995</th>\n",
       "      <td>1.0</td>\n",
       "      <td>0.311981</td>\n",
       "    </tr>\n",
       "    <tr>\n",
       "      <th>996</th>\n",
       "      <td>1.0</td>\n",
       "      <td>0.682995</td>\n",
       "    </tr>\n",
       "    <tr>\n",
       "      <th>997</th>\n",
       "      <td>1.0</td>\n",
       "      <td>0.943975</td>\n",
       "    </tr>\n",
       "    <tr>\n",
       "      <th>998</th>\n",
       "      <td>1.0</td>\n",
       "      <td>0.760517</td>\n",
       "    </tr>\n",
       "    <tr>\n",
       "      <th>999</th>\n",
       "      <td>1.0</td>\n",
       "      <td>0.708688</td>\n",
       "    </tr>\n",
       "  </tbody>\n",
       "</table>\n",
       "<p>1000 rows × 2 columns</p>\n",
       "</div>"
      ],
      "text/plain": [
       "      X0        X1\n",
       "0    1.0  0.379319\n",
       "1    1.0  0.075781\n",
       "2    1.0  0.847121\n",
       "3    1.0  0.678669\n",
       "4    1.0  0.962286\n",
       "..   ...       ...\n",
       "995  1.0  0.311981\n",
       "996  1.0  0.682995\n",
       "997  1.0  0.943975\n",
       "998  1.0  0.760517\n",
       "999  1.0  0.708688\n",
       "\n",
       "[1000 rows x 2 columns]"
      ]
     },
     "execution_count": 131,
     "metadata": {},
     "output_type": "execute_result"
    }
   ],
   "source": [
    "data = pd.DataFrame({\"X0\": X[:, 0], \"X1\": X[:, 1]})\n",
    "data"
   ]
  },
  {
   "cell_type": "code",
   "execution_count": 132,
   "id": "a103ed13",
   "metadata": {},
   "outputs": [
    {
     "data": {
      "image/png": "[encoded data removed]",
      "text/plain": [
       "<Figure size 864x648 with 1 Axes>"
      ]
     },
     "metadata": {
      "needs_background": "light"
     },
     "output_type": "display_data"
    }
   ],
   "source": [
    "plt.scatter(data[\"X1\"], y)\n",
    "plt.show()"
   ]
  },
  {
   "cell_type": "markdown",
   "id": "d8d2d170",
   "metadata": {},
   "source": [
    "## Defining the cost function\n",
    "\n",
    "In linear regression we generally use the **mean square error (MSE)** which is defined as shown below.\n",
    "\n",
    "![image.png](data:image/png;base64,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)\n",
    "\n"
   ]
  },
  {
   "cell_type": "code",
   "execution_count": 133,
   "id": "15e3f6bf",
   "metadata": {},
   "outputs": [],
   "source": [
    "def mean_square_error(pred_y, y, n):\n",
    "    \"\"\"\n",
    "    This function calculates the mean square error.\n",
    "\n",
    "    Parameters:\n",
    "    pred_y = predicted outcome\n",
    "    y = actual outcome\n",
    "    n = number of training examples (size of dataset)\n",
    "    \"\"\"\n",
    "\n",
    "    cost = (1/(n)) * np.sum((y - pred_y)**2)\n",
    "    return cost"
   ]
  },
  {
   "cell_type": "markdown",
   "id": "f73c20ab",
   "metadata": {},
   "source": [
    "## defining the Gradient of Mean Square Error (MSE)\n",
    "\n"
   ]
  },
  {
   "cell_type": "code",
   "execution_count": 134,
   "id": "b8dd8a61",
   "metadata": {},
   "outputs": [],
   "source": [
    "def gradient(X, y, pred_y, n):\n",
    "    \"\"\"\n",
    "    This function calculates the gradient of the Mean Square cost function,\n",
    "\n",
    "    Parameters:\n",
    "      X: input data\n",
    "      y: actual outcome\n",
    "      pred_y: predicted outcome\n",
    "      n: size of dataset\n",
    "    \"\"\"\n",
    "    gradient = (-2/n) * np.matmul(X.T, (y - pred_y))\n",
    "    # print(\"gradient: \", gradient.shape)\n",
    "    return gradient"
   ]
  },
  {
   "cell_type": "code",
   "execution_count": 135,
   "id": "04b16cfa",
   "metadata": {},
   "outputs": [],
   "source": [
    "def regression(x, y, epochs, threshold):\n",
    "    \"\"\"\n",
    "    This function implements the gradient descent algorithm for linear regression.\n",
    "\n",
    "    Parameters:\n",
    "    x: input data\n",
    "    y: actual outcome\n",
    "    \"\"\"\n",
    "    learning_rate = 0.001\n",
    "    # x.shape = (n, m)\n",
    "    n = x.shape[0]\n",
    "    m = x.shape[1]\n",
    "\n",
    "    weight = np.random.rand(m, 1) * learning_rate\n",
    "\n",
    "    pre_cost = float('inf') #initial cost\n",
    "\n",
    "    for i in range(epochs):\n",
    "      # y = x*beta\n",
    "        pred_y = np.matmul(x, weight)\n",
    "        cost = mean_square_error(pred_y, y, n)\n",
    "        if i == 0:\n",
    "          print(\"Cost at epoch - 1: \", cost)\n",
    "        if abs(pre_cost - cost) <= threshold:\n",
    "            print(\"threshold reached at epoch: \", i)\n",
    "            break\n",
    "\n",
    "        pre_cost = cost  #updating the cost value\n",
    "\n",
    "        gd = gradient(x, y, pred_y, n)# finding gradient\n",
    "        \n",
    "        weight = weight - learning_rate * gd # updating weights\n",
    "        # value = value - LR*gradient\n",
    "        # print(\"weight shape: \", weight.shape)\n",
    "    return pre_cost, weight"
   ]
  },
  {
   "cell_type": "code",
   "execution_count": 136,
   "id": "924e3acc",
   "metadata": {},
   "outputs": [
    {
     "name": "stdout",
     "output_type": "stream",
     "text": [
      "X shape:  (500, 6)\n",
      "error shape:  (500, 1)\n",
      "beta shape:  (6, 1)\n",
      "y shape:  (500, 1)\n",
      "Cost at epoch - 1:  4.072668127287506\n",
      "Final cost:  0.7149381870337178\n"
     ]
    }
   ],
   "source": [
    "X, y, beta = generator(500, 5, 0.2)\n",
    "final_cost , weight = regression(X, y, 200, 0.0002)\n",
    "print(\"Final cost: \", final_cost)"
   ]
  },
  {
   "cell_type": "code",
   "execution_count": 137,
   "id": "e0c9f622",
   "metadata": {},
   "outputs": [
    {
     "name": "stdout",
     "output_type": "stream",
     "text": [
      "(6, 1)\n"
     ]
    }
   ],
   "source": [
    "print(weight.shape)"
   ]
  },
  {
   "cell_type": "code",
   "execution_count": 138,
   "id": "2923ecc5",
   "metadata": {},
   "outputs": [
    {
     "data": {
      "text/plain": [
       "array([[0.53488163],\n",
       "       [0.33915881],\n",
       "       [0.86759236],\n",
       "       [0.30290331],\n",
       "       [0.41053805],\n",
       "       [0.94922501]])"
      ]
     },
     "execution_count": 138,
     "metadata": {},
     "output_type": "execute_result"
    }
   ],
   "source": [
    "beta\n"
   ]
  },
  {
   "cell_type": "code",
   "execution_count": 139,
   "id": "a45a5467",
   "metadata": {},
   "outputs": [
    {
     "data": {
      "text/plain": [
       "array([[0.51591852],\n",
       "       [0.25661205],\n",
       "       [0.28607092],\n",
       "       [0.25311116],\n",
       "       [0.2675693 ],\n",
       "       [0.28771961]])"
      ]
     },
     "execution_count": 139,
     "metadata": {},
     "output_type": "execute_result"
    }
   ],
   "source": [
    "weight"
   ]
  },
  {
   "cell_type": "markdown",
   "id": "503ea55f",
   "metadata": {},
   "source": []
  },
  {
   "cell_type": "code",
   "execution_count": null,
   "id": "d4e4e607",
   "metadata": {},
   "outputs": [],
   "source": []
  },
  {
   "cell_type": "markdown",
   "id": "adb46483",
   "metadata": {},
   "source": [
    "Q2. \n",
    "Let’s say you are at the bottom of a staircase with a die. With each throw of the die, you\n",
    "either move down one step (if you get a 1 or 2 on the dice) or move up one step (if you get a\n",
    "3, 4, or 5 on the dice). If you throw a 6 on the die, you throw the die again and move up the\n",
    "staircase by the number you get on that second throw. Note if you are at the base of the\n",
    "staircase, you cannot move down! What is the probability that you will reach higher than the\n",
    "200th step after 250 throws of the die?\n",
    "\n",
    "Change the code so that you have a function that takes as a parameter, the number of\n",
    "throws. The function has another parameter that takes a probability distribution over all\n",
    "outcomes from a dice throw. For example (0.2,0.3,0.2,0.1,0.1,0.1) would suggest that the\n",
    "probability of getting a 1 is 0.2, 2 is 0.3 etc. Calculate the probability of reaching a step\n",
    "higher than the 200th one for the following cases:\n",
    "    \n",
    "(a) Number of throws: 100 throws, distribution=(0.2,0.2,0.2,0.2,0.1,0.1)\n",
    "    \n",
    "(b) Number of throws: 200 throws, distribution=(0.1,0.01,0.01,0.08, 0.4,0.4)\n",
    "    \n",
    "(c) Number of throws: 40 throws, distribution=(0.3,0.01,0.01,0.01,0.01,0.66)\n",
    "    \n",
    "(d) Number of throws: 1000 throws, distribution=(0.17,0.17,0.17,0.16,0.16,0.17)\n",
    "    \n",
    "Special Notes: Assume that the base of the staircase is numbered as step 0. You cannot use\n",
    "numpy. Only library that can be imported for this question is random."
   ]
  },
  {
   "cell_type": "code",
   "execution_count": 201,
   "id": "7660b536",
   "metadata": {},
   "outputs": [],
   "source": [
    "import random\n",
    "\n",
    "def rolldice(T:int, D): #T = throws, D = distribution in format [0.0,0.0,0.0,0.0,0.0,1] [0.2,0.2,0.2,0.2,0.1,0.1]\n",
    "  Stair = 0\n",
    "\n",
    "  for i in range(T):\n",
    "    #print(i,Stair)\n",
    "    roll = random.choices([1,2,3,4,5,6], weights= D)\n",
    "    roll2 = random.choices([1,2,3,4,5,6])\n",
    "    roll1 = roll[0]\n",
    "    if roll[0] == 1 and Stair > 0:\n",
    "     Stair -= 1\n",
    "    elif roll[0] == 2 and Stair > 0:\n",
    "     Stair -= 1\n",
    "    elif roll[0] == 3:\n",
    "     Stair += 1\n",
    "    elif roll[0] == 4:\n",
    "     Stair += 1\n",
    "    elif roll[0] == 5:\n",
    "     Stair += 1\n",
    "    elif roll[0] == 6:\n",
    "     Stair += roll2[0]\n",
    "\n",
    "  return Stair\n",
    "  \n",
    "#this function will return on which stair we are.....after rolling dice for given number of times\n",
    "#and with given probability"
   ]
  },
  {
   "cell_type": "code",
   "execution_count": 202,
   "id": "26de7823",
   "metadata": {},
   "outputs": [
    {
     "data": {
      "text/plain": [
       "26"
      ]
     },
     "execution_count": 202,
     "metadata": {},
     "output_type": "execute_result"
    }
   ],
   "source": [
    "rolldice(100, [0.2,0.2,0.2,0.2,0.1,0.1])"
   ]
  },
  {
   "cell_type": "code",
   "execution_count": 203,
   "id": "984997e7",
   "metadata": {},
   "outputs": [
    {
     "data": {
      "text/plain": [
       "76"
      ]
     },
     "execution_count": 203,
     "metadata": {},
     "output_type": "execute_result"
    }
   ],
   "source": [
    "rolldice(200, [0.2,0.2,0.2,0.2,0.1,0.1])"
   ]
  },
  {
   "cell_type": "code",
   "execution_count": 204,
   "id": "2ceb855c",
   "metadata": {},
   "outputs": [
    {
     "data": {
      "text/plain": [
       "5"
      ]
     },
     "execution_count": 204,
     "metadata": {},
     "output_type": "execute_result"
    }
   ],
   "source": [
    "rolldice(40, [0.2,0.2,0.2,0.2,0.1,0.1])"
   ]
  },
  {
   "cell_type": "code",
   "execution_count": 205,
   "id": "933d1623",
   "metadata": {},
   "outputs": [
    {
     "data": {
      "text/plain": [
       "431"
      ]
     },
     "execution_count": 205,
     "metadata": {},
     "output_type": "execute_result"
    }
   ],
   "source": [
    "rolldice(1000, [0.2,0.2,0.2,0.2,0.1,0.1])"
   ]
  },
  {
   "cell_type": "code",
   "execution_count": 206,
   "id": "eb900b91",
   "metadata": {},
   "outputs": [
    {
     "name": "stdout",
     "output_type": "stream",
     "text": [
      "0\n"
     ]
    }
   ],
   "source": [
    "#Now performing given task for let say X times what is the probability that we are on \n",
    "#staircase above 200 \n",
    "\n",
    "# so that will be Number of times we get to stair above 200 ( favourable outcomes) divided by\n",
    "# number of task performed which is X \n",
    "# and here task is to get to a staircase after rolling the dice for given number of times and \n",
    "#with given probability\n",
    "\n",
    "c=0\n",
    "for i in range (10):# here I have considered X to be 10 bcz if I'm taking larger number My system is crashing ideally it should be infinite\n",
    "    \n",
    "    if (rolldice(100, [0.2,0.2,0.2,0.2,0.1,0.1])>200):\n",
    "        c+=1\n",
    "print(c)\n",
    "\n",
    "# c will be number of times we are getting to staircase above 200 for performing the task for X(=10) number of times \n",
    "#Probability will be c/x"
   ]
  },
  {
   "cell_type": "markdown",
   "id": "787eb46b",
   "metadata": {},
   "source": [
    "Q3. Write a program to replace the following list of key phrases with underscore in between\n",
    "them in given text:\n",
    "\n",
    "list_of_keyphrases = ['Prince Charles', 'Prince William', 'Meghan Markle', 'United\n",
    "Kingdom', 'North America', 'Duke and Duchess of Sussex', 'Queen Elizabeth II']\n",
    "\n",
    "text = 'On January 8, Prince Harry and Meghan Markle, the Duke and Duchess of Sussex,\n",
    "unveiled their controversial plan to walk away from royal roles. We intend to step back as\n",
    "‘senior’ members of the royal family and work to become financially independent while\n",
    "continuing to fully support her majesty the queen, they said in a joint statement. We now\n",
    "plan to balance our time between the United Kingdom and North America, continuing to\n",
    "honor our duty to the Queen, the commonwealth and our patronages. This geographic\n",
    "balance will enable us to raise our son with an appreciation for the royal tradition into which\n",
    "he was born, while also providing our family with the space to focus on the next chapter,\n",
    "including the launch of our new charitable entity, the statement added. Apparently, the\n",
    "announcement on the Sussex Royal Instagram page blindsided the Queen and other family\n",
    "members who had no idea it was coming, it sent tabloids into overdrive. Meanwhile, the\n",
    "Queen summoned Senior Royals to an emergency summit to discuss the future of the Duke\n",
    "and Duchess of Sussex. Billed as the Sandringham summit, the meeting took place at the\n",
    "Queen's estate in Norfolk and involved Queen Elizabeth II, Harry his father, Prince Charles\n",
    "and his brother Prince William, with Meghan Markle reportedly joining the discussions by\n",
    "phone from Canada. Soon after, the queen released a statement, that said, My family and I\n",
    "are entirely supportive of Harry and Meghan Markle desire to create a new life as a young\n",
    "family. Although we would have preferred them to remain full-time working members of\n",
    "the Royal family, we respect and understand their wish to live a more independent life as a\n",
    "family while remaining a valued part of my family.'"
   ]
  },
  {
   "cell_type": "code",
   "execution_count": 140,
   "id": "59bab1f2",
   "metadata": {},
   "outputs": [],
   "source": [
    "list_of_keyphrases = ['Prince Charles', 'Prince William', 'Meghan Markle', 'UnitedKingdom', 'North America', 'Duke and Duchess of Sussex', 'Queen Elizabeth II']\n",
    "                      "
   ]
  },
  {
   "cell_type": "code",
   "execution_count": 141,
   "id": "7be22717",
   "metadata": {},
   "outputs": [],
   "source": [
    "text = \"On January 8, Prince Harry and Meghan Markle, the Duke and Duchess of Sussex,unveiled their controversial plan to walk away from royal roles. We intend to step back as‘senior’ members of the royal family and work to become financially independent whilecontinuing to fully support her majesty the queen, they said in a joint statement. We nowplan to balance our time between the United Kingdom and North America, continuing tohonor our duty to the Queen, the commonwealth and our patronages. This geographicbalance will enable us to raise our son with an appreciation for the royal tradition into whichhe was born, while also providing our family with the space to focus on the next chapter,including the launch of our new charitable entity, the statement added. Apparently, theannouncement on the Sussex Royal Instagram page blindsided the Queen and other familymembers who had no idea it was coming, it sent tabloids into overdrive. Meanwhile, theQueen summoned Senior Royals to an emergency summit to discuss the future of the Dukeand Duchess of Sussex. Billed as the Sandringham summit, the meeting took place at theQueen's estate in Norfolk and involved Queen Elizabeth II, Harry his father, Prince Charlesand his brother Prince William, with Meghan Markle reportedly joining the discussions byphone from Canada. Soon after, the queen released a statement, that said, My family and Iare entirely supportive of Harry and Meghan Markle desire to create a new life as a youngfamily. Although we would have preferred them to remain full-time working members ofthe Royal family, we respect and understand their wish to live a more independent life as afamily while remaining a valued part of my family.\""
   ]
  },
  {
   "cell_type": "code",
   "execution_count": 142,
   "id": "0b2813fb",
   "metadata": {},
   "outputs": [
    {
     "name": "stdout",
     "output_type": "stream",
     "text": [
      "On January 8, Prince Harry and _, the _,unveiled their controversial plan to walk away from royal roles. We intend to step back as‘senior’ members of the royal family and work to become financially independent whilecontinuing to fully support her majesty the queen, they said in a joint statement. We nowplan to balance our time between the United Kingdom and _, continuing tohonor our duty to the Queen, the commonwealth and our patronages. This geographicbalance will enable us to raise our son with an appreciation for the royal tradition into whichhe was born, while also providing our family with the space to focus on the next chapter,including the launch of our new charitable entity, the statement added. Apparently, theannouncement on the Sussex Royal Instagram page blindsided the Queen and other familymembers who had no idea it was coming, it sent tabloids into overdrive. Meanwhile, theQueen summoned Senior Royals to an emergency summit to discuss the future of the Dukeand Duchess of Sussex. Billed as the Sandringham summit, the meeting took place at theQueen's estate in Norfolk and involved _, Harry his father, _and his brother _, with _ reportedly joining the discussions byphone from Canada. Soon after, the queen released a statement, that said, My family and Iare entirely supportive of Harry and _ desire to create a new life as a youngfamily. Although we would have preferred them to remain full-time working members ofthe Royal family, we respect and understand their wish to live a more independent life as afamily while remaining a valued part of my family.\n"
     ]
    }
   ],
   "source": [
    "import re\n",
    "for i in list_of_keyphrases:\n",
    "    if i in text:\n",
    "        text=text.replace(i,\"_\")\n",
    "        \n",
    "print(text)"
   ]
  },
  {
   "cell_type": "markdown",
   "id": "8ddd6a9d",
   "metadata": {},
   "source": [
    "Q4. Given to you is the historical price of the Apple Stock (AAPL - AAPL - Google Sheets) on\n",
    "the NASDAQ stock exchange. Let us define daily returns as:\n",
    "    \n",
    "    \n",
    "Daily Returns= (Adjusted Close of the current day/Adjusted close of the previous day)-1\n",
    "\n",
    "\n",
    "Your task is to use pandas to read the CSV file, find the daily returns, and see if the data fits any\n",
    "possible probability distribution. For the same, you are encouraged to make use of plenty of\n",
    "visualisation libraries and any other possible libraries you think might be useful to test your\n",
    "hypothesis(claim). Post testing the same, give at least three calculations of probabilities which\n",
    "show that the empirical probability is similar to the one obtained by the probability distribution\n",
    "you hypothesised earlier.\n",
    "\n",
    "\n",
    "In case you believe that no distribution reasonably fits the data, please explain why you think the\n",
    "same and give atleast three probability calculations which illustrate that there is no similarity\n",
    "between the empirical probabilities and the values obtained from the distribution.\n",
    "Please illustrate your calculations and state your hypothesis within the ipynb notebook itself.\n",
    "Also, comment on the final conclusions within the notebook itself.\n"
   ]
  },
  {
   "cell_type": "markdown",
   "id": "d298cfb9",
   "metadata": {},
   "source": [
    "**Solution**: we are given the data set consisting historical prices of APPLE Stock on the NASDAQ stock exchange.\n",
    "we are asked to find the Daily Returns and to find wether any probability distribution fits to the data set or not. \n",
    "And approach for the same is 1st I will look at the different visualizations and then use descriptive statistics to further identify distributions and then finally I will go in for actual tests to confirm my judgment.\n"
   ]
  },
  {
   "cell_type": "code",
   "execution_count": 143,
   "id": "f095553c",
   "metadata": {},
   "outputs": [
    {
     "data": {
      "text/html": [
       "<div>\n",
       "<style scoped>\n",
       "    .dataframe tbody tr th:only-of-type {\n",
       "        vertical-align: middle;\n",
       "    }\n",
       "\n",
       "    .dataframe tbody tr th {\n",
       "        vertical-align: top;\n",
       "    }\n",
       "\n",
       "    .dataframe thead th {\n",
       "        text-align: right;\n",
       "    }\n",
       "</style>\n",
       "<table border=\"1\" class=\"dataframe\">\n",
       "  <thead>\n",
       "    <tr style=\"text-align: right;\">\n",
       "      <th></th>\n",
       "      <th>Date</th>\n",
       "      <th>Open</th>\n",
       "      <th>High</th>\n",
       "      <th>Low</th>\n",
       "      <th>Close</th>\n",
       "      <th>Adj Close</th>\n",
       "      <th>Volume</th>\n",
       "    </tr>\n",
       "  </thead>\n",
       "  <tbody>\n",
       "    <tr>\n",
       "      <th>0</th>\n",
       "      <td>14-09-2020</td>\n",
       "      <td>114.720001</td>\n",
       "      <td>115.930000</td>\n",
       "      <td>112.800003</td>\n",
       "      <td>115.360001</td>\n",
       "      <td>114.622765</td>\n",
       "      <td>140150100.0</td>\n",
       "    </tr>\n",
       "    <tr>\n",
       "      <th>1</th>\n",
       "      <td>15-09-2020</td>\n",
       "      <td>118.330002</td>\n",
       "      <td>118.830002</td>\n",
       "      <td>113.610001</td>\n",
       "      <td>115.540001</td>\n",
       "      <td>114.801620</td>\n",
       "      <td>184642000.0</td>\n",
       "    </tr>\n",
       "    <tr>\n",
       "      <th>2</th>\n",
       "      <td>16-09-2020</td>\n",
       "      <td>115.230003</td>\n",
       "      <td>116.000000</td>\n",
       "      <td>112.040001</td>\n",
       "      <td>112.129997</td>\n",
       "      <td>111.413406</td>\n",
       "      <td>154679000.0</td>\n",
       "    </tr>\n",
       "    <tr>\n",
       "      <th>3</th>\n",
       "      <td>17-09-2020</td>\n",
       "      <td>109.720001</td>\n",
       "      <td>112.199997</td>\n",
       "      <td>108.709999</td>\n",
       "      <td>110.339996</td>\n",
       "      <td>109.634850</td>\n",
       "      <td>178011000.0</td>\n",
       "    </tr>\n",
       "    <tr>\n",
       "      <th>4</th>\n",
       "      <td>18-09-2020</td>\n",
       "      <td>110.400002</td>\n",
       "      <td>110.879997</td>\n",
       "      <td>106.089996</td>\n",
       "      <td>106.839996</td>\n",
       "      <td>106.157211</td>\n",
       "      <td>287104900.0</td>\n",
       "    </tr>\n",
       "    <tr>\n",
       "      <th>...</th>\n",
       "      <td>...</td>\n",
       "      <td>...</td>\n",
       "      <td>...</td>\n",
       "      <td>...</td>\n",
       "      <td>...</td>\n",
       "      <td>...</td>\n",
       "      <td>...</td>\n",
       "    </tr>\n",
       "    <tr>\n",
       "      <th>247</th>\n",
       "      <td>2021-07-09 00:00:00</td>\n",
       "      <td>154.970001</td>\n",
       "      <td>157.259995</td>\n",
       "      <td>154.389999</td>\n",
       "      <td>156.690002</td>\n",
       "      <td>156.690002</td>\n",
       "      <td>82278300.0</td>\n",
       "    </tr>\n",
       "    <tr>\n",
       "      <th>248</th>\n",
       "      <td>2021-08-09 00:00:00</td>\n",
       "      <td>156.979996</td>\n",
       "      <td>157.039993</td>\n",
       "      <td>153.979996</td>\n",
       "      <td>155.110001</td>\n",
       "      <td>155.110001</td>\n",
       "      <td>74420200.0</td>\n",
       "    </tr>\n",
       "    <tr>\n",
       "      <th>249</th>\n",
       "      <td>2021-09-09 00:00:00</td>\n",
       "      <td>155.490005</td>\n",
       "      <td>156.110001</td>\n",
       "      <td>153.949997</td>\n",
       "      <td>154.070007</td>\n",
       "      <td>154.070007</td>\n",
       "      <td>57305700.0</td>\n",
       "    </tr>\n",
       "    <tr>\n",
       "      <th>250</th>\n",
       "      <td>2021-10-09 00:00:00</td>\n",
       "      <td>155.000000</td>\n",
       "      <td>155.479996</td>\n",
       "      <td>148.699997</td>\n",
       "      <td>148.970001</td>\n",
       "      <td>148.970001</td>\n",
       "      <td>140646400.0</td>\n",
       "    </tr>\n",
       "    <tr>\n",
       "      <th>251</th>\n",
       "      <td>13-09-2021</td>\n",
       "      <td>150.630005</td>\n",
       "      <td>151.419998</td>\n",
       "      <td>148.750000</td>\n",
       "      <td>149.550003</td>\n",
       "      <td>149.550003</td>\n",
       "      <td>102271300.0</td>\n",
       "    </tr>\n",
       "  </tbody>\n",
       "</table>\n",
       "<p>252 rows × 7 columns</p>\n",
       "</div>"
      ],
      "text/plain": [
       "                    Date        Open        High         Low       Close  \\\n",
       "0             14-09-2020  114.720001  115.930000  112.800003  115.360001   \n",
       "1             15-09-2020  118.330002  118.830002  113.610001  115.540001   \n",
       "2             16-09-2020  115.230003  116.000000  112.040001  112.129997   \n",
       "3             17-09-2020  109.720001  112.199997  108.709999  110.339996   \n",
       "4             18-09-2020  110.400002  110.879997  106.089996  106.839996   \n",
       "..                   ...         ...         ...         ...         ...   \n",
       "247  2021-07-09 00:00:00  154.970001  157.259995  154.389999  156.690002   \n",
       "248  2021-08-09 00:00:00  156.979996  157.039993  153.979996  155.110001   \n",
       "249  2021-09-09 00:00:00  155.490005  156.110001  153.949997  154.070007   \n",
       "250  2021-10-09 00:00:00  155.000000  155.479996  148.699997  148.970001   \n",
       "251           13-09-2021  150.630005  151.419998  148.750000  149.550003   \n",
       "\n",
       "      Adj Close       Volume  \n",
       "0    114.622765  140150100.0  \n",
       "1    114.801620  184642000.0  \n",
       "2    111.413406  154679000.0  \n",
       "3    109.634850  178011000.0  \n",
       "4    106.157211  287104900.0  \n",
       "..          ...          ...  \n",
       "247  156.690002   82278300.0  \n",
       "248  155.110001   74420200.0  \n",
       "249  154.070007   57305700.0  \n",
       "250  148.970001  140646400.0  \n",
       "251  149.550003  102271300.0  \n",
       "\n",
       "[252 rows x 7 columns]"
      ]
     },
     "execution_count": 143,
     "metadata": {},
     "output_type": "execute_result"
    }
   ],
   "source": [
    "#lets look at the data first \n",
    "#for that we need to imprt certain Python Libraries ( pandas , Numpy)\n",
    "\n",
    "import numpy as np\n",
    "import pandas as pd\n",
    "\n",
    "#now we will read the data set \n",
    "\n",
    "df = pd.read_excel('AAPL - AAPL.xlsx')\n",
    "df"
   ]
  },
  {
   "cell_type": "code",
   "execution_count": 144,
   "id": "39ce5be0",
   "metadata": {},
   "outputs": [
    {
     "data": {
      "image/png": "[encoded data removed]",
      "text/plain": [
       "<Figure size 864x648 with 1 Axes>"
      ]
     },
     "metadata": {
      "needs_background": "light"
     },
     "output_type": "display_data"
    }
   ],
   "source": [
    "#we can observe we have 252 rows and 7 columns we can not say much from this  \n",
    "\n",
    "#I will be fitting the probability distribution using the column Adj Close\n",
    "\n",
    "#Now I will try to visualise the data set and I will plot the histogram using matplotlib\n",
    "\n",
    "import matplotlib.pyplot as plt\n",
    "plt.hist(df['Adj Close'])\n",
    "plt.show()\n",
    "\n"
   ]
  },
  {
   "cell_type": "code",
   "execution_count": 145,
   "id": "0d1c0f45",
   "metadata": {},
   "outputs": [],
   "source": [
    "#after looking at histogram we can tell probably to which family of distribution our data set belongs to \n",
    "#So, looking at this one thing that I can say is that it could be a non-Gaussian distribution \n",
    "#since there are two peaks instead of just one. \n",
    "#That is the first observation \n",
    "#but I cannot comment over its symmetry for that I have to look more graphs and  descriptive statisics\n"
   ]
  },
  {
   "cell_type": "code",
   "execution_count": 146,
   "id": "9566d8ea",
   "metadata": {},
   "outputs": [
    {
     "data": {
      "text/plain": [
       "count    252.000000\n",
       "mean     129.264839\n",
       "std       11.712862\n",
       "min      106.157211\n",
       "25%      120.634044\n",
       "50%      127.412362\n",
       "75%      135.694866\n",
       "max      156.690002\n",
       "Name: Adj Close, dtype: float64"
      ]
     },
     "execution_count": 146,
     "metadata": {},
     "output_type": "execute_result"
    }
   ],
   "source": [
    "#Descriptive Statistics \n",
    "\n",
    "#for that I will be using (.describe() method)\n",
    "\n",
    "df['Adj Close'].describe()"
   ]
  },
  {
   "cell_type": "code",
   "execution_count": 147,
   "id": "7f8bcd20",
   "metadata": {},
   "outputs": [
    {
     "name": "stdout",
     "output_type": "stream",
     "text": [
      "{('Skew Observed', 0.36), ('Kurt Observed', -0.65), ('Mean Observed', 129.26), ('Variance Observed', 137.19)}\n"
     ]
    }
   ],
   "source": [
    "#so we can not see anything special in this Statistics so I will try to find other stats like skewness\n",
    "# and kutosis\n",
    "#skewness will how much our data set skewed basically it tells about the symmetry of the distibution\n",
    "#while kurtosis tells about taildness of our distribution which is how often outliers exists in our data set\n",
    "\n",
    "stats_labels = ['Mean Observed', 'Variance Observed', 'Skew Observed', 'Kurt Observed']\n",
    "stats_values = [round(df['Adj Close'].mean(), 2), round(df['Adj Close'].var(), 2), round(df['Adj Close'].skew(),2), round(df['Adj Close'].kurt(),2)]\n",
    "print(set(zip(stats_labels, stats_values)))"
   ]
  },
  {
   "cell_type": "code",
   "execution_count": 148,
   "id": "ad90b7c2",
   "metadata": {},
   "outputs": [],
   "source": [
    "# here we can see variance and mean are kind of close, 137 and 129 respectively.\n",
    "#So, from the histogram I said it is a non-Gaussian distribution but I did not know which it could be.\n",
    "# and after looking at the mean and variance and they are close to each other \n",
    "#I can think of a **Poisson distribution**\n",
    "# so using histogram and Descriptive Statistics that our data set Probability distribution could be a \n",
    "#Poisson distribution\n",
    "# we have kurtosis -0.65 and skewness of 0.36 which tells me that there is asymmetry,\n",
    "#so, now I can eleminate certain symmetric distributions such as normal, uniform etc...\n"
   ]
  },
  {
   "cell_type": "code",
   "execution_count": 149,
   "id": "a39526b1",
   "metadata": {},
   "outputs": [
    {
     "data": {
      "text/plain": [
       "127.4123615"
      ]
     },
     "execution_count": 149,
     "metadata": {},
     "output_type": "execute_result"
    }
   ],
   "source": [
    "df['Adj Close'].median()"
   ]
  },
  {
   "cell_type": "code",
   "execution_count": 150,
   "id": "49c51541",
   "metadata": {},
   "outputs": [],
   "source": [
    "# here we have median 127 and mean we had 129 which are close to each other \n",
    "#which says our distribution could be symmetric so our assumption for Poisson is not fully correct\n",
    "#and I have to look for more evidences for that\n",
    "\n",
    "#Now I will look for statistical testing one of which is Chi-Squre goodness to confirm for Poisson\n"
   ]
  },
  {
   "cell_type": "code",
   "execution_count": 151,
   "id": "fe9f5923",
   "metadata": {},
   "outputs": [],
   "source": [
    "#import statsmodels.api as sm\n",
    "import scipy.stats as stats"
   ]
  },
  {
   "cell_type": "code",
   "execution_count": 152,
   "id": "b0dcf14c",
   "metadata": {},
   "outputs": [
    {
     "data": {
      "image/png": "[encoded data removed]",
      "text/plain": [
       "<Figure size 864x648 with 1 Axes>"
      ]
     },
     "metadata": {
      "needs_background": "light"
     },
     "output_type": "display_data"
    }
   ],
   "source": [
    "# Now I will look into Q-Q plot or P-P plot \n",
    "#Q-Q plot which is Quantile-quantile plot and in this we compare 2 probability distribution by plotting quantiles against eachother, \n",
    "#one is fitted (model) distribution and other is sample distribution,\n",
    "#if both the distribution are similar then Q-Q plot is approximately linear\n",
    "\n",
    "#P-P plot which Probability-Probability plot,this one is also on the similar lines with Q-Q plot \n",
    "#here graph of the model probability is plotted against the sample probability \n",
    "\n",
    "\n",
    "#P-P Plot\n",
    "import matplotlib.pyplot as pltp\n",
    "stats.probplot(df['Adj Close'], plot=plt)\n",
    "plt.show()\n",
    "\n"
   ]
  },
  {
   "cell_type": "code",
   "execution_count": 153,
   "id": "e7eedaf7",
   "metadata": {},
   "outputs": [
    {
     "data": {
      "image/png": "[encoded data removed]",
      "text/plain": [
       "<Figure size 864x648 with 1 Axes>"
      ]
     },
     "metadata": {
      "needs_background": "light"
     },
     "output_type": "display_data"
    }
   ],
   "source": [
    "#by Default this P-P plot is compared with Standard normal Distribution\n",
    "#therefore implicitly will try to do for Poisson\n",
    "\n",
    "stats.probplot(df['Adj Close'], dist='poisson', sparams=(129.26,), plot=plt)\n",
    "plt.show()\n",
    "\n",
    "#here sparamsis the parameter I got from the descriptive statistics which is the mean =129.26 (lambda)"
   ]
  },
  {
   "cell_type": "code",
   "execution_count": 154,
   "id": "5b836d8a",
   "metadata": {},
   "outputs": [],
   "source": [
    "# Points are almost around the same line so with certain degree of certainity I can say that from which\n",
    "#CDF this data is coming is Poisson with lambda 129.26\n",
    "\n",
    "\n",
    "#Actually here I can not make any prediction as it is showing similarity with Poisson and Normal distribution both\n",
    "#For Now I can not make any Prediction Like wich Probability Distribution fits well to this data"
   ]
  },
  {
   "cell_type": "code",
   "execution_count": 155,
   "id": "e14bae5c",
   "metadata": {},
   "outputs": [
    {
     "name": "stdout",
     "output_type": "stream",
     "text": [
      "0      114.622765\n",
      "1      114.801620\n",
      "2      111.413406\n",
      "3      109.634850\n",
      "4      106.157211\n",
      "          ...    \n",
      "247    156.690002\n",
      "248    155.110001\n",
      "249    154.070007\n",
      "250    148.970001\n",
      "251    149.550003\n",
      "Name: Adj Close, Length: 252, dtype: float64\n"
     ]
    }
   ],
   "source": [
    "#Now I will try to Look through Statistical method which is Chi-Squared method that this is a \n",
    "#Poisson or normal or any other Probability Distribution\n",
    "print(df['Adj Close'])"
   ]
  },
  {
   "cell_type": "code",
   "execution_count": 156,
   "id": "619fff4c",
   "metadata": {},
   "outputs": [],
   "source": [
    "grouped_df = pd.DataFrame()\n",
    "# here I will group the data set into bins which will contain the frequency of each data. "
   ]
  },
  {
   "cell_type": "code",
   "execution_count": 157,
   "id": "a16432c0",
   "metadata": {},
   "outputs": [
    {
     "data": {
      "text/html": [
       "<div>\n",
       "<style scoped>\n",
       "    .dataframe tbody tr th:only-of-type {\n",
       "        vertical-align: middle;\n",
       "    }\n",
       "\n",
       "    .dataframe tbody tr th {\n",
       "        vertical-align: top;\n",
       "    }\n",
       "\n",
       "    .dataframe thead th {\n",
       "        text-align: right;\n",
       "    }\n",
       "</style>\n",
       "<table border=\"1\" class=\"dataframe\">\n",
       "  <thead>\n",
       "    <tr style=\"text-align: right;\">\n",
       "      <th></th>\n",
       "      <th>frequency</th>\n",
       "    </tr>\n",
       "    <tr>\n",
       "      <th>Adj Close</th>\n",
       "      <th></th>\n",
       "    </tr>\n",
       "  </thead>\n",
       "  <tbody>\n",
       "    <tr>\n",
       "      <th>106.157211</th>\n",
       "      <td>1</td>\n",
       "    </tr>\n",
       "    <tr>\n",
       "      <th>106.435432</th>\n",
       "      <td>1</td>\n",
       "    </tr>\n",
       "    <tr>\n",
       "      <th>107.528404</th>\n",
       "      <td>1</td>\n",
       "    </tr>\n",
       "    <tr>\n",
       "      <th>108.074883</th>\n",
       "      <td>1</td>\n",
       "    </tr>\n",
       "    <tr>\n",
       "      <th>108.164307</th>\n",
       "      <td>1</td>\n",
       "    </tr>\n",
       "    <tr>\n",
       "      <th>...</th>\n",
       "      <td>...</td>\n",
       "    </tr>\n",
       "    <tr>\n",
       "      <th>153.649994</th>\n",
       "      <td>1</td>\n",
       "    </tr>\n",
       "    <tr>\n",
       "      <th>154.070007</th>\n",
       "      <td>1</td>\n",
       "    </tr>\n",
       "    <tr>\n",
       "      <th>154.300003</th>\n",
       "      <td>1</td>\n",
       "    </tr>\n",
       "    <tr>\n",
       "      <th>155.110001</th>\n",
       "      <td>1</td>\n",
       "    </tr>\n",
       "    <tr>\n",
       "      <th>156.690002</th>\n",
       "      <td>1</td>\n",
       "    </tr>\n",
       "  </tbody>\n",
       "</table>\n",
       "<p>249 rows × 1 columns</p>\n",
       "</div>"
      ],
      "text/plain": [
       "            frequency\n",
       "Adj Close            \n",
       "106.157211          1\n",
       "106.435432          1\n",
       "107.528404          1\n",
       "108.074883          1\n",
       "108.164307          1\n",
       "...               ...\n",
       "153.649994          1\n",
       "154.070007          1\n",
       "154.300003          1\n",
       "155.110001          1\n",
       "156.690002          1\n",
       "\n",
       "[249 rows x 1 columns]"
      ]
     },
     "execution_count": 157,
     "metadata": {},
     "output_type": "execute_result"
    }
   ],
   "source": [
    "grouped_df['frequency']= df.groupby('Adj Close')['Adj Close'].count()\n",
    "grouped_df"
   ]
  },
  {
   "cell_type": "code",
   "execution_count": 158,
   "id": "8df32e62",
   "metadata": {},
   "outputs": [
    {
     "data": {
      "text/plain": [
       "252"
      ]
     },
     "execution_count": 158,
     "metadata": {},
     "output_type": "execute_result"
    }
   ],
   "source": [
    "len(df)"
   ]
  },
  {
   "cell_type": "code",
   "execution_count": 159,
   "id": "c47e1ebf",
   "metadata": {},
   "outputs": [
    {
     "name": "stdout",
     "output_type": "stream",
     "text": [
      "            frequency  OBS_PROBA\n",
      "Adj Close                       \n",
      "106.157211          1   0.003968\n",
      "106.435432          1   0.003968\n",
      "107.528404          1   0.003968\n",
      "108.074883          1   0.003968\n",
      "108.164307          1   0.003968\n",
      "...               ...        ...\n",
      "153.649994          1   0.003968\n",
      "154.070007          1   0.003968\n",
      "154.300003          1   0.003968\n",
      "155.110001          1   0.003968\n",
      "156.690002          1   0.003968\n",
      "\n",
      "[249 rows x 2 columns]\n"
     ]
    }
   ],
   "source": [
    "grouped_df['OBS_PROBA'] = grouped_df['frequency']/len(df)\n",
    "print(grouped_df)\n",
    "\n",
    "#Here I'm trying to calculate the observed probability"
   ]
  },
  {
   "cell_type": "code",
   "execution_count": 160,
   "id": "1c3f10bf",
   "metadata": {},
   "outputs": [],
   "source": [
    "from scipy import stats\n",
    "from scipy.stats import poisson\n",
    "from scipy.stats import chisquare"
   ]
  },
  {
   "cell_type": "code",
   "execution_count": 161,
   "id": "99650a38",
   "metadata": {},
   "outputs": [
    {
     "data": {
      "text/plain": [
       "<bound method rv_discrete.pmf of <scipy.stats._discrete_distns.poisson_gen object at 0x00000274CD8C1A60>>"
      ]
     },
     "execution_count": 161,
     "metadata": {},
     "output_type": "execute_result"
    }
   ],
   "source": [
    "poisson.pmf"
   ]
  },
  {
   "cell_type": "code",
   "execution_count": 162,
   "id": "4f2256ab",
   "metadata": {
    "scrolled": true
   },
   "outputs": [
    {
     "data": {
      "text/plain": [
       "Float64Index([106.157211, 106.435432, 107.528404, 108.074883, 108.164307,\n",
       "              109.376511,  109.63485, 109.734207, 110.489349, 111.095444,\n",
       "              ...\n",
       "              150.190002, 151.119995, 151.830002, 152.509995, 153.119995,\n",
       "              153.649994, 154.070007, 154.300003, 155.110001, 156.690002],\n",
       "             dtype='float64', name='Adj Close', length=249)"
      ]
     },
     "execution_count": 162,
     "metadata": {},
     "output_type": "execute_result"
    }
   ],
   "source": [
    "grouped_df.index"
   ]
  },
  {
   "cell_type": "code",
   "execution_count": 163,
   "id": "d06a9e57",
   "metadata": {},
   "outputs": [
    {
     "data": {
      "text/plain": [
       "129.2648392460317"
      ]
     },
     "execution_count": 163,
     "metadata": {},
     "output_type": "execute_result"
    }
   ],
   "source": [
    "df['Adj Close'].mean()"
   ]
  },
  {
   "cell_type": "code",
   "execution_count": 164,
   "id": "4d19d297",
   "metadata": {},
   "outputs": [],
   "source": [
    "grouped_df['POISSON_PMF'] = poisson.pmf(k=grouped_df.index, mu=df['Adj Close'].mean())"
   ]
  },
  {
   "cell_type": "code",
   "execution_count": 165,
   "id": "9c7c5b83",
   "metadata": {},
   "outputs": [
    {
     "data": {
      "text/plain": [
       "129.2648392460317"
      ]
     },
     "execution_count": 165,
     "metadata": {},
     "output_type": "execute_result"
    }
   ],
   "source": [
    "df['Adj Close'].mean()"
   ]
  },
  {
   "cell_type": "code",
   "execution_count": 166,
   "id": "84f3e0da",
   "metadata": {},
   "outputs": [
    {
     "data": {
      "text/plain": [
       "Adj Close\n",
       "106.157211    0.0\n",
       "106.435432    0.0\n",
       "107.528404    0.0\n",
       "108.074883    0.0\n",
       "108.164307    0.0\n",
       "             ... \n",
       "153.649994    0.0\n",
       "154.070007    0.0\n",
       "154.300003    0.0\n",
       "155.110001    0.0\n",
       "156.690002    0.0\n",
       "Name: POISSON_PMF, Length: 249, dtype: float64"
      ]
     },
     "execution_count": 166,
     "metadata": {},
     "output_type": "execute_result"
    }
   ],
   "source": [
    "grouped_df['POISSON_PMF']"
   ]
  },
  {
   "cell_type": "code",
   "execution_count": 167,
   "id": "65eeaa3f",
   "metadata": {},
   "outputs": [
    {
     "data": {
      "text/html": [
       "<div>\n",
       "<style scoped>\n",
       "    .dataframe tbody tr th:only-of-type {\n",
       "        vertical-align: middle;\n",
       "    }\n",
       "\n",
       "    .dataframe tbody tr th {\n",
       "        vertical-align: top;\n",
       "    }\n",
       "\n",
       "    .dataframe thead th {\n",
       "        text-align: right;\n",
       "    }\n",
       "</style>\n",
       "<table border=\"1\" class=\"dataframe\">\n",
       "  <thead>\n",
       "    <tr style=\"text-align: right;\">\n",
       "      <th></th>\n",
       "      <th>frequency</th>\n",
       "      <th>OBS_PROBA</th>\n",
       "      <th>POISSON_PMF</th>\n",
       "    </tr>\n",
       "    <tr>\n",
       "      <th>Adj Close</th>\n",
       "      <th></th>\n",
       "      <th></th>\n",
       "      <th></th>\n",
       "    </tr>\n",
       "  </thead>\n",
       "  <tbody>\n",
       "    <tr>\n",
       "      <th>106.157211</th>\n",
       "      <td>1</td>\n",
       "      <td>0.003968</td>\n",
       "      <td>0.0</td>\n",
       "    </tr>\n",
       "    <tr>\n",
       "      <th>106.435432</th>\n",
       "      <td>1</td>\n",
       "      <td>0.003968</td>\n",
       "      <td>0.0</td>\n",
       "    </tr>\n",
       "    <tr>\n",
       "      <th>107.528404</th>\n",
       "      <td>1</td>\n",
       "      <td>0.003968</td>\n",
       "      <td>0.0</td>\n",
       "    </tr>\n",
       "    <tr>\n",
       "      <th>108.074883</th>\n",
       "      <td>1</td>\n",
       "      <td>0.003968</td>\n",
       "      <td>0.0</td>\n",
       "    </tr>\n",
       "    <tr>\n",
       "      <th>108.164307</th>\n",
       "      <td>1</td>\n",
       "      <td>0.003968</td>\n",
       "      <td>0.0</td>\n",
       "    </tr>\n",
       "    <tr>\n",
       "      <th>...</th>\n",
       "      <td>...</td>\n",
       "      <td>...</td>\n",
       "      <td>...</td>\n",
       "    </tr>\n",
       "    <tr>\n",
       "      <th>153.649994</th>\n",
       "      <td>1</td>\n",
       "      <td>0.003968</td>\n",
       "      <td>0.0</td>\n",
       "    </tr>\n",
       "    <tr>\n",
       "      <th>154.070007</th>\n",
       "      <td>1</td>\n",
       "      <td>0.003968</td>\n",
       "      <td>0.0</td>\n",
       "    </tr>\n",
       "    <tr>\n",
       "      <th>154.300003</th>\n",
       "      <td>1</td>\n",
       "      <td>0.003968</td>\n",
       "      <td>0.0</td>\n",
       "    </tr>\n",
       "    <tr>\n",
       "      <th>155.110001</th>\n",
       "      <td>1</td>\n",
       "      <td>0.003968</td>\n",
       "      <td>0.0</td>\n",
       "    </tr>\n",
       "    <tr>\n",
       "      <th>156.690002</th>\n",
       "      <td>1</td>\n",
       "      <td>0.003968</td>\n",
       "      <td>0.0</td>\n",
       "    </tr>\n",
       "  </tbody>\n",
       "</table>\n",
       "<p>249 rows × 3 columns</p>\n",
       "</div>"
      ],
      "text/plain": [
       "            frequency  OBS_PROBA  POISSON_PMF\n",
       "Adj Close                                    \n",
       "106.157211          1   0.003968          0.0\n",
       "106.435432          1   0.003968          0.0\n",
       "107.528404          1   0.003968          0.0\n",
       "108.074883          1   0.003968          0.0\n",
       "108.164307          1   0.003968          0.0\n",
       "...               ...        ...          ...\n",
       "153.649994          1   0.003968          0.0\n",
       "154.070007          1   0.003968          0.0\n",
       "154.300003          1   0.003968          0.0\n",
       "155.110001          1   0.003968          0.0\n",
       "156.690002          1   0.003968          0.0\n",
       "\n",
       "[249 rows x 3 columns]"
      ]
     },
     "execution_count": 167,
     "metadata": {},
     "output_type": "execute_result"
    }
   ],
   "source": [
    "grouped_df"
   ]
  },
  {
   "cell_type": "code",
   "execution_count": 168,
   "id": "56888c1c",
   "metadata": {},
   "outputs": [],
   "source": [
    "grouped_df['POISSON_FREQ'] = grouped_df['POISSON_PMF']*len(df)"
   ]
  },
  {
   "cell_type": "code",
   "execution_count": 169,
   "id": "fcbb730f",
   "metadata": {},
   "outputs": [
    {
     "data": {
      "text/html": [
       "<div>\n",
       "<style scoped>\n",
       "    .dataframe tbody tr th:only-of-type {\n",
       "        vertical-align: middle;\n",
       "    }\n",
       "\n",
       "    .dataframe tbody tr th {\n",
       "        vertical-align: top;\n",
       "    }\n",
       "\n",
       "    .dataframe thead th {\n",
       "        text-align: right;\n",
       "    }\n",
       "</style>\n",
       "<table border=\"1\" class=\"dataframe\">\n",
       "  <thead>\n",
       "    <tr style=\"text-align: right;\">\n",
       "      <th></th>\n",
       "      <th>frequency</th>\n",
       "      <th>OBS_PROBA</th>\n",
       "      <th>POISSON_PMF</th>\n",
       "      <th>POISSON_FREQ</th>\n",
       "    </tr>\n",
       "    <tr>\n",
       "      <th>Adj Close</th>\n",
       "      <th></th>\n",
       "      <th></th>\n",
       "      <th></th>\n",
       "      <th></th>\n",
       "    </tr>\n",
       "  </thead>\n",
       "  <tbody>\n",
       "    <tr>\n",
       "      <th>106.157211</th>\n",
       "      <td>1</td>\n",
       "      <td>0.003968</td>\n",
       "      <td>0.0</td>\n",
       "      <td>0.0</td>\n",
       "    </tr>\n",
       "    <tr>\n",
       "      <th>106.435432</th>\n",
       "      <td>1</td>\n",
       "      <td>0.003968</td>\n",
       "      <td>0.0</td>\n",
       "      <td>0.0</td>\n",
       "    </tr>\n",
       "    <tr>\n",
       "      <th>107.528404</th>\n",
       "      <td>1</td>\n",
       "      <td>0.003968</td>\n",
       "      <td>0.0</td>\n",
       "      <td>0.0</td>\n",
       "    </tr>\n",
       "    <tr>\n",
       "      <th>108.074883</th>\n",
       "      <td>1</td>\n",
       "      <td>0.003968</td>\n",
       "      <td>0.0</td>\n",
       "      <td>0.0</td>\n",
       "    </tr>\n",
       "    <tr>\n",
       "      <th>108.164307</th>\n",
       "      <td>1</td>\n",
       "      <td>0.003968</td>\n",
       "      <td>0.0</td>\n",
       "      <td>0.0</td>\n",
       "    </tr>\n",
       "    <tr>\n",
       "      <th>...</th>\n",
       "      <td>...</td>\n",
       "      <td>...</td>\n",
       "      <td>...</td>\n",
       "      <td>...</td>\n",
       "    </tr>\n",
       "    <tr>\n",
       "      <th>153.649994</th>\n",
       "      <td>1</td>\n",
       "      <td>0.003968</td>\n",
       "      <td>0.0</td>\n",
       "      <td>0.0</td>\n",
       "    </tr>\n",
       "    <tr>\n",
       "      <th>154.070007</th>\n",
       "      <td>1</td>\n",
       "      <td>0.003968</td>\n",
       "      <td>0.0</td>\n",
       "      <td>0.0</td>\n",
       "    </tr>\n",
       "    <tr>\n",
       "      <th>154.300003</th>\n",
       "      <td>1</td>\n",
       "      <td>0.003968</td>\n",
       "      <td>0.0</td>\n",
       "      <td>0.0</td>\n",
       "    </tr>\n",
       "    <tr>\n",
       "      <th>155.110001</th>\n",
       "      <td>1</td>\n",
       "      <td>0.003968</td>\n",
       "      <td>0.0</td>\n",
       "      <td>0.0</td>\n",
       "    </tr>\n",
       "    <tr>\n",
       "      <th>156.690002</th>\n",
       "      <td>1</td>\n",
       "      <td>0.003968</td>\n",
       "      <td>0.0</td>\n",
       "      <td>0.0</td>\n",
       "    </tr>\n",
       "  </tbody>\n",
       "</table>\n",
       "<p>249 rows × 4 columns</p>\n",
       "</div>"
      ],
      "text/plain": [
       "            frequency  OBS_PROBA  POISSON_PMF  POISSON_FREQ\n",
       "Adj Close                                                  \n",
       "106.157211          1   0.003968          0.0           0.0\n",
       "106.435432          1   0.003968          0.0           0.0\n",
       "107.528404          1   0.003968          0.0           0.0\n",
       "108.074883          1   0.003968          0.0           0.0\n",
       "108.164307          1   0.003968          0.0           0.0\n",
       "...               ...        ...          ...           ...\n",
       "153.649994          1   0.003968          0.0           0.0\n",
       "154.070007          1   0.003968          0.0           0.0\n",
       "154.300003          1   0.003968          0.0           0.0\n",
       "155.110001          1   0.003968          0.0           0.0\n",
       "156.690002          1   0.003968          0.0           0.0\n",
       "\n",
       "[249 rows x 4 columns]"
      ]
     },
     "execution_count": 169,
     "metadata": {},
     "output_type": "execute_result"
    }
   ],
   "source": [
    "grouped_df"
   ]
  },
  {
   "cell_type": "code",
   "execution_count": 170,
   "id": "a22bba1d",
   "metadata": {},
   "outputs": [],
   "source": [
    "grouped_df['POISSON_FREQ'] = [round(elem,2) for elem in grouped_df['POISSON_FREQ']]"
   ]
  },
  {
   "cell_type": "code",
   "execution_count": 171,
   "id": "62e3b699",
   "metadata": {},
   "outputs": [
    {
     "data": {
      "text/html": [
       "<div>\n",
       "<style scoped>\n",
       "    .dataframe tbody tr th:only-of-type {\n",
       "        vertical-align: middle;\n",
       "    }\n",
       "\n",
       "    .dataframe tbody tr th {\n",
       "        vertical-align: top;\n",
       "    }\n",
       "\n",
       "    .dataframe thead th {\n",
       "        text-align: right;\n",
       "    }\n",
       "</style>\n",
       "<table border=\"1\" class=\"dataframe\">\n",
       "  <thead>\n",
       "    <tr style=\"text-align: right;\">\n",
       "      <th></th>\n",
       "      <th>frequency</th>\n",
       "      <th>OBS_PROBA</th>\n",
       "      <th>POISSON_PMF</th>\n",
       "      <th>POISSON_FREQ</th>\n",
       "    </tr>\n",
       "    <tr>\n",
       "      <th>Adj Close</th>\n",
       "      <th></th>\n",
       "      <th></th>\n",
       "      <th></th>\n",
       "      <th></th>\n",
       "    </tr>\n",
       "  </thead>\n",
       "  <tbody>\n",
       "    <tr>\n",
       "      <th>106.157211</th>\n",
       "      <td>1</td>\n",
       "      <td>0.003968</td>\n",
       "      <td>0.0</td>\n",
       "      <td>0.0</td>\n",
       "    </tr>\n",
       "    <tr>\n",
       "      <th>106.435432</th>\n",
       "      <td>1</td>\n",
       "      <td>0.003968</td>\n",
       "      <td>0.0</td>\n",
       "      <td>0.0</td>\n",
       "    </tr>\n",
       "    <tr>\n",
       "      <th>107.528404</th>\n",
       "      <td>1</td>\n",
       "      <td>0.003968</td>\n",
       "      <td>0.0</td>\n",
       "      <td>0.0</td>\n",
       "    </tr>\n",
       "    <tr>\n",
       "      <th>108.074883</th>\n",
       "      <td>1</td>\n",
       "      <td>0.003968</td>\n",
       "      <td>0.0</td>\n",
       "      <td>0.0</td>\n",
       "    </tr>\n",
       "    <tr>\n",
       "      <th>108.164307</th>\n",
       "      <td>1</td>\n",
       "      <td>0.003968</td>\n",
       "      <td>0.0</td>\n",
       "      <td>0.0</td>\n",
       "    </tr>\n",
       "    <tr>\n",
       "      <th>...</th>\n",
       "      <td>...</td>\n",
       "      <td>...</td>\n",
       "      <td>...</td>\n",
       "      <td>...</td>\n",
       "    </tr>\n",
       "    <tr>\n",
       "      <th>153.649994</th>\n",
       "      <td>1</td>\n",
       "      <td>0.003968</td>\n",
       "      <td>0.0</td>\n",
       "      <td>0.0</td>\n",
       "    </tr>\n",
       "    <tr>\n",
       "      <th>154.070007</th>\n",
       "      <td>1</td>\n",
       "      <td>0.003968</td>\n",
       "      <td>0.0</td>\n",
       "      <td>0.0</td>\n",
       "    </tr>\n",
       "    <tr>\n",
       "      <th>154.300003</th>\n",
       "      <td>1</td>\n",
       "      <td>0.003968</td>\n",
       "      <td>0.0</td>\n",
       "      <td>0.0</td>\n",
       "    </tr>\n",
       "    <tr>\n",
       "      <th>155.110001</th>\n",
       "      <td>1</td>\n",
       "      <td>0.003968</td>\n",
       "      <td>0.0</td>\n",
       "      <td>0.0</td>\n",
       "    </tr>\n",
       "    <tr>\n",
       "      <th>156.690002</th>\n",
       "      <td>1</td>\n",
       "      <td>0.003968</td>\n",
       "      <td>0.0</td>\n",
       "      <td>0.0</td>\n",
       "    </tr>\n",
       "  </tbody>\n",
       "</table>\n",
       "<p>249 rows × 4 columns</p>\n",
       "</div>"
      ],
      "text/plain": [
       "            frequency  OBS_PROBA  POISSON_PMF  POISSON_FREQ\n",
       "Adj Close                                                  \n",
       "106.157211          1   0.003968          0.0           0.0\n",
       "106.435432          1   0.003968          0.0           0.0\n",
       "107.528404          1   0.003968          0.0           0.0\n",
       "108.074883          1   0.003968          0.0           0.0\n",
       "108.164307          1   0.003968          0.0           0.0\n",
       "...               ...        ...          ...           ...\n",
       "153.649994          1   0.003968          0.0           0.0\n",
       "154.070007          1   0.003968          0.0           0.0\n",
       "154.300003          1   0.003968          0.0           0.0\n",
       "155.110001          1   0.003968          0.0           0.0\n",
       "156.690002          1   0.003968          0.0           0.0\n",
       "\n",
       "[249 rows x 4 columns]"
      ]
     },
     "execution_count": 171,
     "metadata": {},
     "output_type": "execute_result"
    }
   ],
   "source": [
    "grouped_df"
   ]
  },
  {
   "cell_type": "code",
   "execution_count": 172,
   "id": "3c27e3fb",
   "metadata": {},
   "outputs": [],
   "source": [
    "obs_freq = list(grouped_df['frequency'])\n",
    "expec_freq = list(grouped_df['POISSON_FREQ'])"
   ]
  },
  {
   "cell_type": "code",
   "execution_count": 189,
   "id": "f06853f1",
   "metadata": {},
   "outputs": [],
   "source": [
    "# we can see from above table every data set is  equal likelihood as Observed Probability for each element is 0.003968"
   ]
  },
  {
   "cell_type": "code",
   "execution_count": null,
   "id": "2710915d",
   "metadata": {},
   "outputs": [],
   "source": []
  },
  {
   "cell_type": "code",
   "execution_count": null,
   "id": "ab6691bb",
   "metadata": {},
   "outputs": [],
   "source": []
  },
  {
   "cell_type": "code",
   "execution_count": 176,
   "id": "b06bb880",
   "metadata": {},
   "outputs": [],
   "source": [
    "import scipy.stats"
   ]
  },
  {
   "cell_type": "code",
   "execution_count": null,
   "id": "98f26811",
   "metadata": {},
   "outputs": [],
   "source": []
  },
  {
   "cell_type": "code",
   "execution_count": 179,
   "id": "1db90e04",
   "metadata": {},
   "outputs": [
    {
     "data": {
      "text/plain": [
       "0.003968253968253968"
      ]
     },
     "execution_count": 179,
     "metadata": {},
     "output_type": "execute_result"
    }
   ],
   "source": [
    "1/252"
   ]
  },
  {
   "cell_type": "code",
   "execution_count": null,
   "id": "cf1dd483",
   "metadata": {},
   "outputs": [],
   "source": [
    "import scipy.stats"
   ]
  },
  {
   "cell_type": "code",
   "execution_count": 180,
   "id": "ac59a145",
   "metadata": {},
   "outputs": [
    {
     "data": {
      "text/html": [
       "<div>\n",
       "<style scoped>\n",
       "    .dataframe tbody tr th:only-of-type {\n",
       "        vertical-align: middle;\n",
       "    }\n",
       "\n",
       "    .dataframe tbody tr th {\n",
       "        vertical-align: top;\n",
       "    }\n",
       "\n",
       "    .dataframe thead th {\n",
       "        text-align: right;\n",
       "    }\n",
       "</style>\n",
       "<table border=\"1\" class=\"dataframe\">\n",
       "  <thead>\n",
       "    <tr style=\"text-align: right;\">\n",
       "      <th></th>\n",
       "      <th>Date</th>\n",
       "      <th>Open</th>\n",
       "      <th>High</th>\n",
       "      <th>Low</th>\n",
       "      <th>Close</th>\n",
       "      <th>Adj Close</th>\n",
       "      <th>Volume</th>\n",
       "    </tr>\n",
       "  </thead>\n",
       "  <tbody>\n",
       "    <tr>\n",
       "      <th>0</th>\n",
       "      <td>14-09-2020</td>\n",
       "      <td>114.720001</td>\n",
       "      <td>115.930000</td>\n",
       "      <td>112.800003</td>\n",
       "      <td>115.360001</td>\n",
       "      <td>114.622765</td>\n",
       "      <td>140150100.0</td>\n",
       "    </tr>\n",
       "    <tr>\n",
       "      <th>1</th>\n",
       "      <td>15-09-2020</td>\n",
       "      <td>118.330002</td>\n",
       "      <td>118.830002</td>\n",
       "      <td>113.610001</td>\n",
       "      <td>115.540001</td>\n",
       "      <td>114.801620</td>\n",
       "      <td>184642000.0</td>\n",
       "    </tr>\n",
       "    <tr>\n",
       "      <th>2</th>\n",
       "      <td>16-09-2020</td>\n",
       "      <td>115.230003</td>\n",
       "      <td>116.000000</td>\n",
       "      <td>112.040001</td>\n",
       "      <td>112.129997</td>\n",
       "      <td>111.413406</td>\n",
       "      <td>154679000.0</td>\n",
       "    </tr>\n",
       "    <tr>\n",
       "      <th>3</th>\n",
       "      <td>17-09-2020</td>\n",
       "      <td>109.720001</td>\n",
       "      <td>112.199997</td>\n",
       "      <td>108.709999</td>\n",
       "      <td>110.339996</td>\n",
       "      <td>109.634850</td>\n",
       "      <td>178011000.0</td>\n",
       "    </tr>\n",
       "    <tr>\n",
       "      <th>4</th>\n",
       "      <td>18-09-2020</td>\n",
       "      <td>110.400002</td>\n",
       "      <td>110.879997</td>\n",
       "      <td>106.089996</td>\n",
       "      <td>106.839996</td>\n",
       "      <td>106.157211</td>\n",
       "      <td>287104900.0</td>\n",
       "    </tr>\n",
       "    <tr>\n",
       "      <th>...</th>\n",
       "      <td>...</td>\n",
       "      <td>...</td>\n",
       "      <td>...</td>\n",
       "      <td>...</td>\n",
       "      <td>...</td>\n",
       "      <td>...</td>\n",
       "      <td>...</td>\n",
       "    </tr>\n",
       "    <tr>\n",
       "      <th>247</th>\n",
       "      <td>2021-07-09 00:00:00</td>\n",
       "      <td>154.970001</td>\n",
       "      <td>157.259995</td>\n",
       "      <td>154.389999</td>\n",
       "      <td>156.690002</td>\n",
       "      <td>156.690002</td>\n",
       "      <td>82278300.0</td>\n",
       "    </tr>\n",
       "    <tr>\n",
       "      <th>248</th>\n",
       "      <td>2021-08-09 00:00:00</td>\n",
       "      <td>156.979996</td>\n",
       "      <td>157.039993</td>\n",
       "      <td>153.979996</td>\n",
       "      <td>155.110001</td>\n",
       "      <td>155.110001</td>\n",
       "      <td>74420200.0</td>\n",
       "    </tr>\n",
       "    <tr>\n",
       "      <th>249</th>\n",
       "      <td>2021-09-09 00:00:00</td>\n",
       "      <td>155.490005</td>\n",
       "      <td>156.110001</td>\n",
       "      <td>153.949997</td>\n",
       "      <td>154.070007</td>\n",
       "      <td>154.070007</td>\n",
       "      <td>57305700.0</td>\n",
       "    </tr>\n",
       "    <tr>\n",
       "      <th>250</th>\n",
       "      <td>2021-10-09 00:00:00</td>\n",
       "      <td>155.000000</td>\n",
       "      <td>155.479996</td>\n",
       "      <td>148.699997</td>\n",
       "      <td>148.970001</td>\n",
       "      <td>148.970001</td>\n",
       "      <td>140646400.0</td>\n",
       "    </tr>\n",
       "    <tr>\n",
       "      <th>251</th>\n",
       "      <td>13-09-2021</td>\n",
       "      <td>150.630005</td>\n",
       "      <td>151.419998</td>\n",
       "      <td>148.750000</td>\n",
       "      <td>149.550003</td>\n",
       "      <td>149.550003</td>\n",
       "      <td>102271300.0</td>\n",
       "    </tr>\n",
       "  </tbody>\n",
       "</table>\n",
       "<p>252 rows × 7 columns</p>\n",
       "</div>"
      ],
      "text/plain": [
       "                    Date        Open        High         Low       Close  \\\n",
       "0             14-09-2020  114.720001  115.930000  112.800003  115.360001   \n",
       "1             15-09-2020  118.330002  118.830002  113.610001  115.540001   \n",
       "2             16-09-2020  115.230003  116.000000  112.040001  112.129997   \n",
       "3             17-09-2020  109.720001  112.199997  108.709999  110.339996   \n",
       "4             18-09-2020  110.400002  110.879997  106.089996  106.839996   \n",
       "..                   ...         ...         ...         ...         ...   \n",
       "247  2021-07-09 00:00:00  154.970001  157.259995  154.389999  156.690002   \n",
       "248  2021-08-09 00:00:00  156.979996  157.039993  153.979996  155.110001   \n",
       "249  2021-09-09 00:00:00  155.490005  156.110001  153.949997  154.070007   \n",
       "250  2021-10-09 00:00:00  155.000000  155.479996  148.699997  148.970001   \n",
       "251           13-09-2021  150.630005  151.419998  148.750000  149.550003   \n",
       "\n",
       "      Adj Close       Volume  \n",
       "0    114.622765  140150100.0  \n",
       "1    114.801620  184642000.0  \n",
       "2    111.413406  154679000.0  \n",
       "3    109.634850  178011000.0  \n",
       "4    106.157211  287104900.0  \n",
       "..          ...          ...  \n",
       "247  156.690002   82278300.0  \n",
       "248  155.110001   74420200.0  \n",
       "249  154.070007   57305700.0  \n",
       "250  148.970001  140646400.0  \n",
       "251  149.550003  102271300.0  \n",
       "\n",
       "[252 rows x 7 columns]"
      ]
     },
     "execution_count": 180,
     "metadata": {},
     "output_type": "execute_result"
    }
   ],
   "source": [
    "df"
   ]
  },
  {
   "cell_type": "code",
   "execution_count": 181,
   "id": "1b314482",
   "metadata": {},
   "outputs": [
    {
     "data": {
      "text/plain": [
       "0      114.622765\n",
       "1      114.801620\n",
       "2      111.413406\n",
       "3      109.634850\n",
       "4      106.157211\n",
       "          ...    \n",
       "247    156.690002\n",
       "248    155.110001\n",
       "249    154.070007\n",
       "250    148.970001\n",
       "251    149.550003\n",
       "Name: Adj Close, Length: 252, dtype: float64"
      ]
     },
     "execution_count": 181,
     "metadata": {},
     "output_type": "execute_result"
    }
   ],
   "source": [
    "df['Adj Close']"
   ]
  },
  {
   "cell_type": "code",
   "execution_count": 182,
   "id": "2673a15c",
   "metadata": {},
   "outputs": [
    {
     "data": {
      "image/png": "[encoded data removed]",
      "text/plain": [
       "<Figure size 864x648 with 1 Axes>"
      ]
     },
     "metadata": {
      "needs_background": "light"
     },
     "output_type": "display_data"
    }
   ],
   "source": [
    "plt.hist(df['Adj Close'])\n",
    "plt.show()"
   ]
  },
  {
   "cell_type": "code",
   "execution_count": 184,
   "id": "0e330e58",
   "metadata": {},
   "outputs": [
    {
     "name": "stdout",
     "output_type": "stream",
     "text": [
      "  params: FitParams(loc=129.26484409348728, scale=11.689595613130981)\n",
      " success: True\n",
      " message: 'Optimization terminated successfully.'\n"
     ]
    }
   ],
   "source": [
    "dist=scipy.stats.norm\n",
    "bounds=[(100,150),(-12,15)]\n",
    "res=scipy.stats.fit(dist,df['Adj Close'],bounds)\n",
    "#scipy.stats.fit\n",
    "print(res)\n",
    "\n",
    "\n",
    "#Here I was trying to use scipy.stats to fit Normal distribution by giving proper bound etc \n",
    "#similarly I will try to do for other distribution also and will see Which Distribution Fits well"
   ]
  },
  {
   "cell_type": "code",
   "execution_count": null,
   "id": "18c07817",
   "metadata": {},
   "outputs": [],
   "source": []
  },
  {
   "cell_type": "code",
   "execution_count": 185,
   "id": "05bd0f46",
   "metadata": {},
   "outputs": [
    {
     "name": "stdout",
     "output_type": "stream",
     "text": [
      "scipy: 1.9.3\n"
     ]
    }
   ],
   "source": [
    "import scipy \n",
    "print('scipy: {}'. format(scipy. __version__)) \n",
    "\n"
   ]
  },
  {
   "cell_type": "code",
   "execution_count": null,
   "id": "28fd37fb",
   "metadata": {},
   "outputs": [],
   "source": [
    "!pip install -U scipy\n"
   ]
  },
  {
   "cell_type": "code",
   "execution_count": null,
   "id": "63c7aecb",
   "metadata": {},
   "outputs": [],
   "source": [
    "print('scipy: {}'. format(scipy. __version__)) \n"
   ]
  },
  {
   "cell_type": "code",
   "execution_count": 186,
   "id": "91f5eecf",
   "metadata": {},
   "outputs": [
    {
     "data": {
      "image/png": "[encoded data removed]",
      "text/plain": [
       "<Figure size 864x648 with 1 Axes>"
      ]
     },
     "metadata": {
      "needs_background": "light"
     },
     "output_type": "display_data"
    }
   ],
   "source": [
    "res.plot()\n",
    "plt.show()"
   ]
  },
  {
   "cell_type": "code",
   "execution_count": 187,
   "id": "ce38e221",
   "metadata": {},
   "outputs": [
    {
     "name": "stdout",
     "output_type": "stream",
     "text": [
      "  params: FitParams(mu=129.2646333376021, loc=0.0)\n",
      " success: True\n",
      " message: 'Optimization terminated successfully.'\n"
     ]
    }
   ],
   "source": [
    "dist=scipy.stats.poisson\n",
    "bounds=[(100,150)]\n",
    "res=scipy.stats.fit(dist,df['Adj Close'],bounds)\n",
    "#scipy.stats.fit\n",
    "print(res)"
   ]
  },
  {
   "cell_type": "code",
   "execution_count": 188,
   "id": "42dc3a3a",
   "metadata": {},
   "outputs": [
    {
     "data": {
      "image/png": "[encoded data removed]",
      "text/plain": [
       "<Figure size 864x648 with 1 Axes>"
      ]
     },
     "metadata": {
      "needs_background": "light"
     },
     "output_type": "display_data"
    }
   ],
   "source": [
    "res.plot()\n",
    "plt.show()"
   ]
  },
  {
   "cell_type": "code",
   "execution_count": null,
   "id": "66906377",
   "metadata": {},
   "outputs": [],
   "source": [
    "# So I can not come to conclussion Which Probability distribution fits well to the given Data."
   ]
  },
  {
   "cell_type": "code",
   "execution_count": null,
   "id": "c7d9045b",
   "metadata": {},
   "outputs": [],
   "source": []
  },
  {
   "cell_type": "markdown",
   "id": "e62bbdc3",
   "metadata": {},
   "source": [
    "### Daily Returns"
   ]
  },
  {
   "cell_type": "markdown",
   "id": "8cceeee6",
   "metadata": {},
   "source": [
    "Daily Returns= (Adjusted Close of the current day/Adjusted close of the previous day)-1"
   ]
  },
  {
   "cell_type": "code",
   "execution_count": null,
   "id": "433b5ce1",
   "metadata": {},
   "outputs": [],
   "source": [
    "#TEST RUN"
   ]
  },
  {
   "cell_type": "code",
   "execution_count": null,
   "id": "97b95d5d",
   "metadata": {},
   "outputs": [],
   "source": [
    "## test run"
   ]
  },
  {
   "cell_type": "code",
   "execution_count": null,
   "id": "f4e3207a",
   "metadata": {},
   "outputs": [],
   "source": [
    "df['Adj Close'].shift(1)"
   ]
  },
  {
   "cell_type": "code",
   "execution_count": null,
   "id": "c607240c",
   "metadata": {},
   "outputs": [],
   "source": [
    "df['Adj Close']"
   ]
  },
  {
   "cell_type": "code",
   "execution_count": null,
   "id": "b3aa454a",
   "metadata": {},
   "outputs": [],
   "source": [
    "df['Adj Close']/df['Adj Close'].shift(1)-1"
   ]
  },
  {
   "cell_type": "code",
   "execution_count": null,
   "id": "ba1c4efb",
   "metadata": {},
   "outputs": [],
   "source": []
  }
 ],
 "metadata": {
  "kernelspec": {
   "display_name": "Python 3 (ipykernel)",
   "language": "python",
   "name": "python3"
  },
  "language_info": {
   "codemirror_mode": {
    "name": "ipython",
    "version": 3
   },
   "file_extension": ".py",
   "mimetype": "text/x-python",
   "name": "python",
   "nbconvert_exporter": "python",
   "pygments_lexer": "ipython3",
   "version": "3.9.7"
  }
 },
 "nbformat": 4,
 "nbformat_minor": 5
}
